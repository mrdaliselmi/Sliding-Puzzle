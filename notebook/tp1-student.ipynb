{
 "cells": [
  {
   "cell_type": "markdown",
   "id": "389c036c-33a9-4f5d-bc30-94bf5ab8d9f3",
   "metadata": {},
   "source": [
    "## Intelligence artificielle et raisonnement TP1"
   ]
  },
  {
   "cell_type": "markdown",
   "id": "d58b2eea-da7b-4ba2-94fc-f7ef4ddf9acd",
   "metadata": {},
   "source": [
    "Considérons le jeu du taquin suivant où il s’agit  de passer de l’état initial (à gauche) à l’état final (à droite)"
   ]
  },
  {
   "cell_type": "code",
   "execution_count": 1,
   "id": "3edc9c6f-f969-4dcc-8696-1c8a2c076c91",
   "metadata": {
    "collapsed": true,
    "jupyter": {
     "outputs_hidden": true
    },
    "tags": []
   },
   "outputs": [
    {
     "ename": "FileNotFoundError",
     "evalue": "No such file or directory: 'jeu_taquin.png'",
     "output_type": "error",
     "traceback": [
      "\u001b[1;31m---------------------------------------------------------------------------\u001b[0m",
      "\u001b[1;31mTypeError\u001b[0m                                 Traceback (most recent call last)",
      "File \u001b[1;32m~\\AppData\\Roaming\\Python\\Python310\\site-packages\\IPython\\core\\display.py:1045\u001b[0m, in \u001b[0;36mImage._data_and_metadata\u001b[1;34m(self, always_both)\u001b[0m\n\u001b[0;32m   1044\u001b[0m \u001b[39mtry\u001b[39;00m:\n\u001b[1;32m-> 1045\u001b[0m     b64_data \u001b[39m=\u001b[39m b2a_base64(\u001b[39mself\u001b[39;49m\u001b[39m.\u001b[39;49mdata)\u001b[39m.\u001b[39mdecode(\u001b[39m'\u001b[39m\u001b[39mascii\u001b[39m\u001b[39m'\u001b[39m)\n\u001b[0;32m   1046\u001b[0m \u001b[39mexcept\u001b[39;00m \u001b[39mTypeError\u001b[39;00m \u001b[39mas\u001b[39;00m e:\n",
      "\u001b[1;31mTypeError\u001b[0m: a bytes-like object is required, not 'str'",
      "\nThe above exception was the direct cause of the following exception:\n",
      "\u001b[1;31mFileNotFoundError\u001b[0m                         Traceback (most recent call last)",
      "File \u001b[1;32m~\\AppData\\Roaming\\Python\\Python310\\site-packages\\IPython\\core\\formatters.py:972\u001b[0m, in \u001b[0;36mMimeBundleFormatter.__call__\u001b[1;34m(self, obj, include, exclude)\u001b[0m\n\u001b[0;32m    969\u001b[0m     method \u001b[39m=\u001b[39m get_real_method(obj, \u001b[39mself\u001b[39m\u001b[39m.\u001b[39mprint_method)\n\u001b[0;32m    971\u001b[0m     \u001b[39mif\u001b[39;00m method \u001b[39mis\u001b[39;00m \u001b[39mnot\u001b[39;00m \u001b[39mNone\u001b[39;00m:\n\u001b[1;32m--> 972\u001b[0m         \u001b[39mreturn\u001b[39;00m method(include\u001b[39m=\u001b[39;49minclude, exclude\u001b[39m=\u001b[39;49mexclude)\n\u001b[0;32m    973\u001b[0m     \u001b[39mreturn\u001b[39;00m \u001b[39mNone\u001b[39;00m\n\u001b[0;32m    974\u001b[0m \u001b[39melse\u001b[39;00m:\n",
      "File \u001b[1;32m~\\AppData\\Roaming\\Python\\Python310\\site-packages\\IPython\\core\\display.py:1035\u001b[0m, in \u001b[0;36mImage._repr_mimebundle_\u001b[1;34m(self, include, exclude)\u001b[0m\n\u001b[0;32m   1033\u001b[0m \u001b[39mif\u001b[39;00m \u001b[39mself\u001b[39m\u001b[39m.\u001b[39membed:\n\u001b[0;32m   1034\u001b[0m     mimetype \u001b[39m=\u001b[39m \u001b[39mself\u001b[39m\u001b[39m.\u001b[39m_mimetype\n\u001b[1;32m-> 1035\u001b[0m     data, metadata \u001b[39m=\u001b[39m \u001b[39mself\u001b[39;49m\u001b[39m.\u001b[39;49m_data_and_metadata(always_both\u001b[39m=\u001b[39;49m\u001b[39mTrue\u001b[39;49;00m)\n\u001b[0;32m   1036\u001b[0m     \u001b[39mif\u001b[39;00m metadata:\n\u001b[0;32m   1037\u001b[0m         metadata \u001b[39m=\u001b[39m {mimetype: metadata}\n",
      "File \u001b[1;32m~\\AppData\\Roaming\\Python\\Python310\\site-packages\\IPython\\core\\display.py:1047\u001b[0m, in \u001b[0;36mImage._data_and_metadata\u001b[1;34m(self, always_both)\u001b[0m\n\u001b[0;32m   1045\u001b[0m     b64_data \u001b[39m=\u001b[39m b2a_base64(\u001b[39mself\u001b[39m\u001b[39m.\u001b[39mdata)\u001b[39m.\u001b[39mdecode(\u001b[39m'\u001b[39m\u001b[39mascii\u001b[39m\u001b[39m'\u001b[39m)\n\u001b[0;32m   1046\u001b[0m \u001b[39mexcept\u001b[39;00m \u001b[39mTypeError\u001b[39;00m \u001b[39mas\u001b[39;00m e:\n\u001b[1;32m-> 1047\u001b[0m     \u001b[39mraise\u001b[39;00m \u001b[39mFileNotFoundError\u001b[39;00m(\n\u001b[0;32m   1048\u001b[0m         \u001b[39m\"\u001b[39m\u001b[39mNo such file or directory: \u001b[39m\u001b[39m'\u001b[39m\u001b[39m%s\u001b[39;00m\u001b[39m'\u001b[39m\u001b[39m\"\u001b[39m \u001b[39m%\u001b[39m (\u001b[39mself\u001b[39m\u001b[39m.\u001b[39mdata)) \u001b[39mfrom\u001b[39;00m \u001b[39me\u001b[39;00m\n\u001b[0;32m   1049\u001b[0m md \u001b[39m=\u001b[39m {}\n\u001b[0;32m   1050\u001b[0m \u001b[39mif\u001b[39;00m \u001b[39mself\u001b[39m\u001b[39m.\u001b[39mmetadata:\n",
      "\u001b[1;31mFileNotFoundError\u001b[0m: No such file or directory: 'jeu_taquin.png'"
     ]
    },
    {
     "ename": "FileNotFoundError",
     "evalue": "No such file or directory: 'jeu_taquin.png'",
     "output_type": "error",
     "traceback": [
      "\u001b[1;31m---------------------------------------------------------------------------\u001b[0m",
      "\u001b[1;31mTypeError\u001b[0m                                 Traceback (most recent call last)",
      "File \u001b[1;32m~\\AppData\\Roaming\\Python\\Python310\\site-packages\\IPython\\core\\display.py:1045\u001b[0m, in \u001b[0;36mImage._data_and_metadata\u001b[1;34m(self, always_both)\u001b[0m\n\u001b[0;32m   1044\u001b[0m \u001b[39mtry\u001b[39;00m:\n\u001b[1;32m-> 1045\u001b[0m     b64_data \u001b[39m=\u001b[39m b2a_base64(\u001b[39mself\u001b[39;49m\u001b[39m.\u001b[39;49mdata)\u001b[39m.\u001b[39mdecode(\u001b[39m'\u001b[39m\u001b[39mascii\u001b[39m\u001b[39m'\u001b[39m)\n\u001b[0;32m   1046\u001b[0m \u001b[39mexcept\u001b[39;00m \u001b[39mTypeError\u001b[39;00m \u001b[39mas\u001b[39;00m e:\n",
      "\u001b[1;31mTypeError\u001b[0m: a bytes-like object is required, not 'str'",
      "\nThe above exception was the direct cause of the following exception:\n",
      "\u001b[1;31mFileNotFoundError\u001b[0m                         Traceback (most recent call last)",
      "File \u001b[1;32m~\\AppData\\Roaming\\Python\\Python310\\site-packages\\IPython\\core\\formatters.py:342\u001b[0m, in \u001b[0;36mBaseFormatter.__call__\u001b[1;34m(self, obj)\u001b[0m\n\u001b[0;32m    340\u001b[0m     method \u001b[39m=\u001b[39m get_real_method(obj, \u001b[39mself\u001b[39m\u001b[39m.\u001b[39mprint_method)\n\u001b[0;32m    341\u001b[0m     \u001b[39mif\u001b[39;00m method \u001b[39mis\u001b[39;00m \u001b[39mnot\u001b[39;00m \u001b[39mNone\u001b[39;00m:\n\u001b[1;32m--> 342\u001b[0m         \u001b[39mreturn\u001b[39;00m method()\n\u001b[0;32m    343\u001b[0m     \u001b[39mreturn\u001b[39;00m \u001b[39mNone\u001b[39;00m\n\u001b[0;32m    344\u001b[0m \u001b[39melse\u001b[39;00m:\n",
      "File \u001b[1;32m~\\AppData\\Roaming\\Python\\Python310\\site-packages\\IPython\\core\\display.py:1067\u001b[0m, in \u001b[0;36mImage._repr_png_\u001b[1;34m(self)\u001b[0m\n\u001b[0;32m   1065\u001b[0m \u001b[39mdef\u001b[39;00m \u001b[39m_repr_png_\u001b[39m(\u001b[39mself\u001b[39m):\n\u001b[0;32m   1066\u001b[0m     \u001b[39mif\u001b[39;00m \u001b[39mself\u001b[39m\u001b[39m.\u001b[39membed \u001b[39mand\u001b[39;00m \u001b[39mself\u001b[39m\u001b[39m.\u001b[39mformat \u001b[39m==\u001b[39m \u001b[39mself\u001b[39m\u001b[39m.\u001b[39m_FMT_PNG:\n\u001b[1;32m-> 1067\u001b[0m         \u001b[39mreturn\u001b[39;00m \u001b[39mself\u001b[39;49m\u001b[39m.\u001b[39;49m_data_and_metadata()\n",
      "File \u001b[1;32m~\\AppData\\Roaming\\Python\\Python310\\site-packages\\IPython\\core\\display.py:1047\u001b[0m, in \u001b[0;36mImage._data_and_metadata\u001b[1;34m(self, always_both)\u001b[0m\n\u001b[0;32m   1045\u001b[0m     b64_data \u001b[39m=\u001b[39m b2a_base64(\u001b[39mself\u001b[39m\u001b[39m.\u001b[39mdata)\u001b[39m.\u001b[39mdecode(\u001b[39m'\u001b[39m\u001b[39mascii\u001b[39m\u001b[39m'\u001b[39m)\n\u001b[0;32m   1046\u001b[0m \u001b[39mexcept\u001b[39;00m \u001b[39mTypeError\u001b[39;00m \u001b[39mas\u001b[39;00m e:\n\u001b[1;32m-> 1047\u001b[0m     \u001b[39mraise\u001b[39;00m \u001b[39mFileNotFoundError\u001b[39;00m(\n\u001b[0;32m   1048\u001b[0m         \u001b[39m\"\u001b[39m\u001b[39mNo such file or directory: \u001b[39m\u001b[39m'\u001b[39m\u001b[39m%s\u001b[39;00m\u001b[39m'\u001b[39m\u001b[39m\"\u001b[39m \u001b[39m%\u001b[39m (\u001b[39mself\u001b[39m\u001b[39m.\u001b[39mdata)) \u001b[39mfrom\u001b[39;00m \u001b[39me\u001b[39;00m\n\u001b[0;32m   1049\u001b[0m md \u001b[39m=\u001b[39m {}\n\u001b[0;32m   1050\u001b[0m \u001b[39mif\u001b[39;00m \u001b[39mself\u001b[39m\u001b[39m.\u001b[39mmetadata:\n",
      "\u001b[1;31mFileNotFoundError\u001b[0m: No such file or directory: 'jeu_taquin.png'"
     ]
    },
    {
     "data": {
      "text/plain": [
       "<IPython.core.display.Image object>"
      ]
     },
     "execution_count": 1,
     "metadata": {},
     "output_type": "execute_result"
    }
   ],
   "source": [
    "from IPython import display\n",
    "display.Image(\"jeu_taquin.png\")"
   ]
  },
  {
   "cell_type": "markdown",
   "id": "a1ffe5f0-522f-4951-b6d9-79487c709887",
   "metadata": {},
   "source": [
    "En utilisant le langage Python, on vous demande de :\n",
    "\n",
    "    1. Coder de manière générique les états, les actions, la fonction de transition d’états, l’état initial et les états finaux d’un problème de recherche dans un graphe d’états."
   ]
  },
  {
   "cell_type": "code",
   "execution_count": 2,
   "id": "1fb6ff98-6592-4efd-aed6-988b4c14c9db",
   "metadata": {},
   "outputs": [],
   "source": [
    "class Taquin:\n",
    "    def __init__(self, initial_state):\n",
    "        self.state = initial_state\n",
    "\n",
    "    def __str__(self):\n",
    "        return \"\\n\".join([\" \".join(map(str, row)) for row in self.state])\n",
    "\n",
    "    def move(self, direction):\n",
    "        # Recherche des coordonnées de la tuile vide (représentée par 0)\n",
    "        empty_tile_row, empty_tile_col = None, None\n",
    "\n",
    "\n",
    "        # Déplacement de la tuile vide dans la direction spécifiée\n",
    "        if\n",
    "        .........\n",
    "        else:\n",
    "            print(\"Mouvement invalide\")\n",
    "\n",
    "\n",
    "    def is_goal(self):\n",
    "        # Vérifie si la configuration actuelle est le but (puzzle résolu)\n",
    "        # Implémentez ici la logique pour vérifier si le puzzle est résolu\n",
    "        "
   ]
  },
  {
   "cell_type": "code",
   "execution_count": null,
   "id": "3ff48f63-95b0-47e0-bb57-cd8003a0f32c",
   "metadata": {},
   "outputs": [],
   "source": [
    "# Exemple d'utilisation\n",
    "initial_state = [[7,2,4],[5,0,6],[8,3,1]]  # 0 représente la tuile vide\n",
    "\n",
    "#initialiser le taquin\n",
    ".....\n",
    "\n",
    "\n",
    "# Déplacez la tuile dans des directions différentes\n",
    "......"
   ]
  },
  {
   "cell_type": "markdown",
   "id": "cbdfd85a-f5fa-4e01-9161-512227d8860d",
   "metadata": {},
   "source": [
    "    2. Coder de manière générique les algorithmes :\n",
    "        a. Recherche en profondeur limitée\n",
    "        b. Recherche par profondeur itérative\n",
    "        c. Recherche A*"
   ]
  },
  {
   "cell_type": "markdown",
   "id": "6bc84009-d1c8-41db-8998-00dd14589d8d",
   "metadata": {},
   "source": [
    "#### Recherche par profondeur"
   ]
  },
  {
   "cell_type": "markdown",
   "id": "b18df632-9b7b-4b65-b357-05d98e46893d",
   "metadata": {},
   "source": [
    "#Pseudocode\n",
    "\n",
    "DFS(G, u)\n",
    "\n",
    "    u.visited = true\n",
    "\n",
    "    for each v ∈ G.Adj[u]\n",
    "\n",
    "        if v.visited == false\n",
    "\n",
    "            DFS(G,v)   \n",
    "\n",
    "init() {\n",
    "\n",
    "    For each u ∈ G\n",
    "\n",
    "        u.visited = false\n",
    "\n",
    "     For each u ∈ G\n",
    "\n",
    "       DFS(G, u)\n",
    "\n",
    "}"
   ]
  },
  {
   "cell_type": "code",
   "execution_count": 3,
   "id": "bc5a97b4-4544-4d89-941e-3bd3e5adc771",
   "metadata": {},
   "outputs": [
    {
     "name": "stdout",
     "output_type": "stream",
     "text": [
      "5\n",
      "3\n",
      "2\n",
      "4\n",
      "8\n",
      "7\n"
     ]
    }
   ],
   "source": [
    "graph = {\n",
    "  '5' : ['3','7'],\n",
    "  '3' : ['2', '4'],\n",
    "  '7' : ['8'],\n",
    "  '2' : [],\n",
    "  '4' : ['8'],\n",
    "  '8' : []\n",
    "}\n",
    "\n",
    "visited = set() # Set to keep track of visited nodes of graph.\n",
    "\n",
    "def dfs(visited, graph, node): #function for dfs \n",
    "  print(node)\n",
    "  for neighbour in graph[node]:\n",
    "      if neighbour not in visited:\n",
    "          visited.add(neighbour)\n",
    "          dfs(visited, graph, neighbour)\n",
    "    \n",
    "dfs(visited, graph, '5')"
   ]
  },
  {
   "cell_type": "markdown",
   "id": "373d7e1b-57c8-4d08-a59a-b9d8d36d83d0",
   "metadata": {},
   "source": [
    "Explanation\n",
    "\n",
    "    Lines 2-9: The illustrated graph is represented using an adjacency list - an easy way to do it in Python is to use a dictionary data structure. Each vertex has a list of its adjacent nodes stored.\n",
    "    Line 11: visited is a set that is used to keep track of visited nodes.\n",
    "    Line 21: The dfs function is called and is passed the visited set, the graph in the form of a dictionary, and A, which is the starting node.\n",
    "    Lines 13-18: dfs follows the algorithm described above:\n",
    "        It first checks if the current node is unvisited - if yes, it is appended in the visited set.\n",
    "        Then for each neighbor of the current node, the dfs function is invoked again.\n",
    "        The base case is invoked when all the nodes are visited. The function then returns.\n"
   ]
  },
  {
   "cell_type": "markdown",
   "id": "44dc3c97-56c3-456b-9dd2-2d07b4314d40",
   "metadata": {},
   "source": [
    "#### Recherche par profondeur limitée"
   ]
  },
  {
   "cell_type": "code",
   "execution_count": 16,
   "id": "640c0f05",
   "metadata": {},
   "outputs": [
    {
     "name": "stdout",
     "output_type": "stream",
     "text": [
      "5\n",
      "3\n",
      "2\n",
      "4\n",
      "7\n",
      "8\n"
     ]
    }
   ],
   "source": [
    "graph = {\n",
    "  '5' : ['3','7'],\n",
    "  '3' : ['2', '4'],\n",
    "  '7' : ['8'],\n",
    "  '2' : [],\n",
    "  '4' : ['8'],\n",
    "  '8' : []\n",
    "}\n",
    "\n",
    "visited = set() # Set to keep track of visited nodes of graph.\n",
    "\n",
    "def dfs_limited(visited, graph, node, limit): #function for dfs \n",
    "    print(node)\n",
    "    for neighbour in graph[node]:\n",
    "        if neighbour not in visited and limit > 0:\n",
    "            visited.add(neighbour)\n",
    "            dfs_limited(visited, graph, neighbour, limit-1)\n",
    "\n",
    "dfs_limited(visited, graph, '5', 2)"
   ]
  },
  {
   "cell_type": "markdown",
   "id": "3f369c0e-184c-494b-bd51-1b5af3a05250",
   "metadata": {},
   "source": [
    "#### Recherche par profondeur itérative"
   ]
  },
  {
   "cell_type": "code",
   "execution_count": 34,
   "id": "02635390",
   "metadata": {},
   "outputs": [
    {
     "name": "stdout",
     "output_type": "stream",
     "text": [
      "('0', 0)\n",
      "('4', 1)\n",
      "('5', 2)\n",
      "('1', 3)\n",
      "('2', 1)\n",
      "('6', 2)\n",
      "['0', '4', '5', '1', '2', '6']\n"
     ]
    }
   ],
   "source": [
    "graph = {\n",
    "  '0' : ['1','2','4'],\n",
    "  '1' : ['3', '5'],\n",
    "  '2' : ['6'],\n",
    "  '3' : [],\n",
    "  '4' : ['5'],\n",
    "  '5' : ['1'],\n",
    "  '6' : []\n",
    "}\n",
    "\n",
    "visited = set() # Set to keep track of visited nodes of graph.\n",
    "\n",
    "# iterative implementation of dfs\n",
    "def dfs_iterative( graph, node, limit ):\n",
    "  visited = []\n",
    "  stack = [(node,0)]\n",
    "  while stack:\n",
    "      v= stack.pop()\n",
    "      node = v[0]\n",
    "      dep = v[1]\n",
    "      if node not in visited and dep <= limit :\n",
    "          print(v)\n",
    "          visited.append(node)\n",
    "          neighbors = [(i,dep+1) for i in graph[node]]\n",
    "          stack.extend(neighbors)\n",
    "  return visited\n",
    "\n",
    "print(dfs_iterative(graph, '0', 3))"
   ]
  },
  {
   "cell_type": "markdown",
   "id": "dd86b99d",
   "metadata": {},
   "source": [
    "## Recherche A*"
   ]
  },
  {
   "cell_type": "code",
   "execution_count": null,
   "id": "ed6895bf",
   "metadata": {},
   "outputs": [],
   "source": [
    "# implementation of A* algorithm\n",
    "graph = {\n",
    "  'A' : [('B',8),('F',6)],\n",
    "  'B' : \n",
    "}\n",
    "\n",
    "def astar(graph, start, goal):"
   ]
  },
  {
   "cell_type": "markdown",
   "id": "d64c2513-68f7-42bc-a7c1-c526a876d5b1",
   "metadata": {},
   "source": [
    "    3. Instancier avec le problème du Taquin en utilisant 2 heuristiques admissibles vues en cours "
   ]
  },
  {
   "cell_type": "markdown",
   "id": "135ede34-f9a0-4c7a-9f6b-86b479765a8f",
   "metadata": {},
   "source": [
    "    4. Comparer les algorithmes à l’aide d’un graphique :  nombre de nœuds traités, taille maximale de la liste des nœuds candidats (ouverts)"
   ]
  },
  {
   "cell_type": "markdown",
   "id": "3ac419a9-7913-4077-9d4f-5e1cf3a3ee43",
   "metadata": {},
   "source": [
    "    5. Augmenter la taille du jeu du Taquin (4x4, 7x7, 10x10). Comparer les algorithmes en fonction de l’évolution de la taille."
   ]
  },
  {
   "cell_type": "markdown",
   "id": "b5c16f08-47f6-4770-b5ab-710f7ff243d3",
   "metadata": {},
   "source": [
    "### Bidirectional A*:\n",
    "An enhancement to A* is the Bidirectional A* algorithm, which runs two A* searches simultaneously from the start and goal nodes. When both searches meet in the middle, the path is found. This can be more efficient than a single A* search in certain situations."
   ]
  },
  {
   "cell_type": "code",
   "execution_count": 14,
   "metadata": {},
   "outputs": [],
   "source": [
    "def manhattan_distance(node, target):\n",
    "    return abs(node.x - target.x) + abs(node.y - target.y)"
   ]
  },
  {
   "cell_type": "code",
   "execution_count": 15,
   "metadata": {},
   "outputs": [],
   "source": [
    "def bidirectional_a_star(graph, start, goal):\n",
    "    def heuristic(node, target):\n",
    "        return manhattan_distance(node, target)\n",
    "\n",
    "    def reconstruct_path(came_from, current):\n",
    "        path = [current]\n",
    "        while current in came_from:\n",
    "            current = came_from[current]\n",
    "            path.append(current)\n",
    "        return path\n",
    "\n",
    "    def a_star_search(graph, start, goal, h):\n",
    "        open_set = set([start])\n",
    "        came_from = {}\n",
    "        g_score = {node: float('inf') for node in graph}\n",
    "        g_score[start] = 0\n",
    "\n",
    "        f_score = {node: float('inf') for node in graph}\n",
    "        f_score[start] = h(start, goal)\n",
    "\n",
    "        while open_set:\n",
    "            current = min(open_set, key=lambda node: f_score[node])\n",
    "            if current == goal:\n",
    "                return reconstruct_path(came_from, current)\n",
    "            \n",
    "            open_set.remove(current)\n",
    "            \n",
    "            for neighbor, cost in graph[current].items():\n",
    "                tentative_g = g_score[current] + cost\n",
    "                if tentative_g < g_score[neighbor]:\n",
    "                    came_from[neighbor] = current\n",
    "                    g_score[neighbor] = tentative_g\n",
    "                    f_score[neighbor] = g_score[neighbor] + h(neighbor, goal)\n",
    "                    if neighbor not in open_set:\n",
    "                        open_set.add(neighbor)\n",
    "        \n",
    "        return None\n",
    "\n",
    "    forward_path = a_star_search(graph, start, goal, heuristic)\n",
    "    backward_path = a_star_search(graph, goal, start, heuristic)\n",
    "\n",
    "    if forward_path and backward_path:\n",
    "        backward_path.reverse()\n",
    "        return forward_path + backward_path[1:]\n",
    "    else:\n",
    "        return None\n"
   ]
  },
  {
   "cell_type": "code",
   "execution_count": 24,
   "metadata": {},
   "outputs": [],
   "source": [
    "class Node:\n",
    "    def __init__(self, x, y, name):\n",
    "        self.x = x\n",
    "        self.y = y\n",
    "        self.name = name\n",
    "\n",
    "    def __hash__(self):\n",
    "        return hash((self.x, self.y))\n",
    "\n",
    "    def __eq__(self, other):\n",
    "        return isinstance(other, Node) and self.x == other.x and self.y == other.y\n",
    "    \n",
    "    def __str__(self):\n",
    "        return self.name"
   ]
  },
  {
   "cell_type": "code",
   "execution_count": 28,
   "metadata": {},
   "outputs": [
    {
     "name": "stdout",
     "output_type": "stream",
     "text": [
      "Path found: ['G', 'F', 'C', 'B', 'A', 'G', 'E', 'D', 'A']\n"
     ]
    }
   ],
   "source": [
    "graph = {\n",
    "    Node(0, 0,'A'): {Node(1, 0,'B'): 1, Node(0, 1,'D'): 1},\n",
    "    Node(1, 0,'B'): {Node(0, 0,'A'): 1, Node(2, 0,'C'): 1},\n",
    "    Node(2, 0,'C'): {Node(1, 0,'B'): 1, Node(2, 1,'F'): 1},\n",
    "    Node(0, 1,'D'): {Node(0, 0,'A'): 1, Node(1, 1,'E'): 1},\n",
    "    Node(1, 1,'E'): {Node(0, 1,'D'): 1, Node(1, 2,'G'): 1},\n",
    "    Node(2, 1,'F'): {Node(2, 0,'C'): 1, Node(2, 2,'G'): 1},\n",
    "    Node(1, 2,'G'): {Node(1, 1,'E'): 1, Node(2, 2,'G'): 1},\n",
    "    Node(2, 2,'G'): {Node(1, 2,'G'): 1},\n",
    "}\n",
    "\n",
    "start_node = Node(0, 0, 'A')\n",
    "goal_node = Node(2, 2,'G')\n",
    "\n",
    "path = bidirectional_a_star(graph, start_node, goal_node)\n",
    "\n",
    "if path:\n",
    "    print(\"Path found:\", [node.name for node in path])\n",
    "else:\n",
    "    print(\"No path found\")"
   ]
  },
  {
   "cell_type": "code",
   "execution_count": null,
   "metadata": {},
   "outputs": [],
   "source": []
  }
 ],
 "metadata": {
  "kernelspec": {
   "display_name": "Python 3 (ipykernel)",
   "language": "python",
   "name": "python3"
  },
  "language_info": {
   "codemirror_mode": {
    "name": "ipython",
    "version": 3
   },
   "file_extension": ".py",
   "mimetype": "text/x-python",
   "name": "python",
   "nbconvert_exporter": "python",
   "pygments_lexer": "ipython3",
   "version": "3.10.9"
  }
 },
 "nbformat": 4,
 "nbformat_minor": 5
}
